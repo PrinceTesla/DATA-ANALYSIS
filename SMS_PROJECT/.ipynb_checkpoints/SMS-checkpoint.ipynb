{
 "cells": [
  {
   "cell_type": "code",
   "execution_count": 1,
   "id": "5aec2db4",
   "metadata": {},
   "outputs": [],
   "source": [
    "#Importing necessary libraries\n",
    "import warnings\n",
    "import numpy as np\n",
    "import pandas as pd\n",
    "import itertools\n",
    "import matplotlib.pyplot as plt\n",
    "from datetime import datetime\n",
    "warnings.filterwarnings('ignore')"
   ]
  },
  {
   "cell_type": "code",
   "execution_count": 2,
   "id": "389a227e",
   "metadata": {},
   "outputs": [
    {
     "data": {
      "text/html": [
       "<div>\n",
       "<style scoped>\n",
       "    .dataframe tbody tr th:only-of-type {\n",
       "        vertical-align: middle;\n",
       "    }\n",
       "\n",
       "    .dataframe tbody tr th {\n",
       "        vertical-align: top;\n",
       "    }\n",
       "\n",
       "    .dataframe thead th {\n",
       "        text-align: right;\n",
       "    }\n",
       "</style>\n",
       "<table border=\"1\" class=\"dataframe\">\n",
       "  <thead>\n",
       "    <tr style=\"text-align: right;\">\n",
       "      <th></th>\n",
       "      <th>phoneNumber</th>\n",
       "      <th>id</th>\n",
       "      <th>updateAt</th>\n",
       "      <th>senderAddress</th>\n",
       "      <th>text</th>\n",
       "    </tr>\n",
       "  </thead>\n",
       "  <tbody>\n",
       "    <tr>\n",
       "      <th>0</th>\n",
       "      <td>xx39973810</td>\n",
       "      <td>baa1668c-049e-4118-938e-cc804f1e73aa</td>\n",
       "      <td>Sat, 7 May 2022 19:48:00 UTC</td>\n",
       "      <td>JK-SmplPL</td>\n",
       "      <td>Rs.95.15 on Zomato charged via Simpl.\\r\\n--\\r\\...</td>\n",
       "    </tr>\n",
       "    <tr>\n",
       "      <th>1</th>\n",
       "      <td>xx39973810</td>\n",
       "      <td>baa1668c-049e-4118-938e-cc804f1e73aa</td>\n",
       "      <td>Sat, 7 May 2022 19:48:00 UTC</td>\n",
       "      <td>VP-ViCARE</td>\n",
       "      <td>Hi! Update your email id through WhatsApp: htt...</td>\n",
       "    </tr>\n",
       "    <tr>\n",
       "      <th>2</th>\n",
       "      <td>xx39973810</td>\n",
       "      <td>baa1668c-049e-4118-938e-cc804f1e73aa</td>\n",
       "      <td>Sat, 7 May 2022 19:48:00 UTC</td>\n",
       "      <td>VP-612345</td>\n",
       "      <td>Lucknow ya Kolkata ? - watch it LIVE with Vi c...</td>\n",
       "    </tr>\n",
       "    <tr>\n",
       "      <th>3</th>\n",
       "      <td>xx39973810</td>\n",
       "      <td>baa1668c-049e-4118-938e-cc804f1e73aa</td>\n",
       "      <td>Sat, 7 May 2022 19:48:00 UTC</td>\n",
       "      <td>BP-ACKOGI</td>\n",
       "      <td>Mohd,\\nCheck the incredible Acko insurance pol...</td>\n",
       "    </tr>\n",
       "    <tr>\n",
       "      <th>4</th>\n",
       "      <td>xx39973810</td>\n",
       "      <td>baa1668c-049e-4118-938e-cc804f1e73aa</td>\n",
       "      <td>Sat, 7 May 2022 19:48:00 UTC</td>\n",
       "      <td>VP-ViCARE</td>\n",
       "      <td>Hi! You can now get your Vi prepaid invoice em...</td>\n",
       "    </tr>\n",
       "    <tr>\n",
       "      <th>...</th>\n",
       "      <td>...</td>\n",
       "      <td>...</td>\n",
       "      <td>...</td>\n",
       "      <td>...</td>\n",
       "      <td>...</td>\n",
       "    </tr>\n",
       "    <tr>\n",
       "      <th>100238</th>\n",
       "      <td>xx86412509</td>\n",
       "      <td>3d368683-a2a5-4c96-88c0-8c7a3ac8bdc5</td>\n",
       "      <td>Wed, 4 May 2022 07:14:44 UTC</td>\n",
       "      <td>JD-AKAMAH</td>\n",
       "      <td>As we celebrate Azadi Ka Amrit Mahotsav, let's...</td>\n",
       "    </tr>\n",
       "    <tr>\n",
       "      <th>100239</th>\n",
       "      <td>xx86412509</td>\n",
       "      <td>3d368683-a2a5-4c96-88c0-8c7a3ac8bdc5</td>\n",
       "      <td>Wed, 4 May 2022 07:14:44 UTC</td>\n",
       "      <td>+917986412509</td>\n",
       "      <td>Dear Customer, +917986412509 is now available ...</td>\n",
       "    </tr>\n",
       "    <tr>\n",
       "      <th>100240</th>\n",
       "      <td>xx86412509</td>\n",
       "      <td>3d368683-a2a5-4c96-88c0-8c7a3ac8bdc5</td>\n",
       "      <td>Wed, 4 May 2022 07:14:44 UTC</td>\n",
       "      <td>+919417271313</td>\n",
       "      <td>Dear Customer, +919417271313 is now available ...</td>\n",
       "    </tr>\n",
       "    <tr>\n",
       "      <th>100241</th>\n",
       "      <td>xx86412509</td>\n",
       "      <td>3d368683-a2a5-4c96-88c0-8c7a3ac8bdc5</td>\n",
       "      <td>Wed, 4 May 2022 07:14:44 UTC</td>\n",
       "      <td>+917986412509</td>\n",
       "      <td>Dear Customer, +917986412509 is now available ...</td>\n",
       "    </tr>\n",
       "    <tr>\n",
       "      <th>100242</th>\n",
       "      <td>xx86412509</td>\n",
       "      <td>3d368683-a2a5-4c96-88c0-8c7a3ac8bdc5</td>\n",
       "      <td>Wed, 4 May 2022 07:14:44 UTC</td>\n",
       "      <td>+917986412509</td>\n",
       "      <td>Dear Customer, +917986412509 is now available ...</td>\n",
       "    </tr>\n",
       "  </tbody>\n",
       "</table>\n",
       "<p>100243 rows × 5 columns</p>\n",
       "</div>"
      ],
      "text/plain": [
       "       phoneNumber                                    id  \\\n",
       "0       xx39973810  baa1668c-049e-4118-938e-cc804f1e73aa   \n",
       "1       xx39973810  baa1668c-049e-4118-938e-cc804f1e73aa   \n",
       "2       xx39973810  baa1668c-049e-4118-938e-cc804f1e73aa   \n",
       "3       xx39973810  baa1668c-049e-4118-938e-cc804f1e73aa   \n",
       "4       xx39973810  baa1668c-049e-4118-938e-cc804f1e73aa   \n",
       "...            ...                                   ...   \n",
       "100238  xx86412509  3d368683-a2a5-4c96-88c0-8c7a3ac8bdc5   \n",
       "100239  xx86412509  3d368683-a2a5-4c96-88c0-8c7a3ac8bdc5   \n",
       "100240  xx86412509  3d368683-a2a5-4c96-88c0-8c7a3ac8bdc5   \n",
       "100241  xx86412509  3d368683-a2a5-4c96-88c0-8c7a3ac8bdc5   \n",
       "100242  xx86412509  3d368683-a2a5-4c96-88c0-8c7a3ac8bdc5   \n",
       "\n",
       "                            updateAt  senderAddress  \\\n",
       "0       Sat, 7 May 2022 19:48:00 UTC      JK-SmplPL   \n",
       "1       Sat, 7 May 2022 19:48:00 UTC      VP-ViCARE   \n",
       "2       Sat, 7 May 2022 19:48:00 UTC      VP-612345   \n",
       "3       Sat, 7 May 2022 19:48:00 UTC      BP-ACKOGI   \n",
       "4       Sat, 7 May 2022 19:48:00 UTC      VP-ViCARE   \n",
       "...                              ...            ...   \n",
       "100238  Wed, 4 May 2022 07:14:44 UTC      JD-AKAMAH   \n",
       "100239  Wed, 4 May 2022 07:14:44 UTC  +917986412509   \n",
       "100240  Wed, 4 May 2022 07:14:44 UTC  +919417271313   \n",
       "100241  Wed, 4 May 2022 07:14:44 UTC  +917986412509   \n",
       "100242  Wed, 4 May 2022 07:14:44 UTC  +917986412509   \n",
       "\n",
       "                                                     text  \n",
       "0       Rs.95.15 on Zomato charged via Simpl.\\r\\n--\\r\\...  \n",
       "1       Hi! Update your email id through WhatsApp: htt...  \n",
       "2       Lucknow ya Kolkata ? - watch it LIVE with Vi c...  \n",
       "3       Mohd,\\nCheck the incredible Acko insurance pol...  \n",
       "4       Hi! You can now get your Vi prepaid invoice em...  \n",
       "...                                                   ...  \n",
       "100238  As we celebrate Azadi Ka Amrit Mahotsav, let's...  \n",
       "100239  Dear Customer, +917986412509 is now available ...  \n",
       "100240  Dear Customer, +919417271313 is now available ...  \n",
       "100241  Dear Customer, +917986412509 is now available ...  \n",
       "100242  Dear Customer, +917986412509 is now available ...  \n",
       "\n",
       "[100243 rows x 5 columns]"
      ]
     },
     "execution_count": 2,
     "metadata": {},
     "output_type": "execute_result"
    }
   ],
   "source": [
    "# Read in the sms CSV file\n",
    "file = pd.read_csv(\"SMS-Data.csv\")\n",
    "file.head()\n",
    "\n",
    "#making a copy of the file\n",
    "file_copy = file.copy()\n",
    "file"
   ]
  },
  {
   "cell_type": "code",
   "execution_count": 3,
   "id": "5f85ff1e",
   "metadata": {},
   "outputs": [
    {
     "data": {
      "text/html": [
       "<div>\n",
       "<style scoped>\n",
       "    .dataframe tbody tr th:only-of-type {\n",
       "        vertical-align: middle;\n",
       "    }\n",
       "\n",
       "    .dataframe tbody tr th {\n",
       "        vertical-align: top;\n",
       "    }\n",
       "\n",
       "    .dataframe thead th {\n",
       "        text-align: right;\n",
       "    }\n",
       "</style>\n",
       "<table border=\"1\" class=\"dataframe\">\n",
       "  <thead>\n",
       "    <tr style=\"text-align: right;\">\n",
       "      <th></th>\n",
       "      <th>phoneNumber</th>\n",
       "      <th>id</th>\n",
       "      <th>updateAt</th>\n",
       "      <th>senderAddress</th>\n",
       "      <th>text</th>\n",
       "    </tr>\n",
       "  </thead>\n",
       "  <tbody>\n",
       "    <tr>\n",
       "      <th>count</th>\n",
       "      <td>100243</td>\n",
       "      <td>100243</td>\n",
       "      <td>100243</td>\n",
       "      <td>100243</td>\n",
       "      <td>100237</td>\n",
       "    </tr>\n",
       "    <tr>\n",
       "      <th>unique</th>\n",
       "      <td>93</td>\n",
       "      <td>93</td>\n",
       "      <td>138</td>\n",
       "      <td>8929</td>\n",
       "      <td>59377</td>\n",
       "    </tr>\n",
       "    <tr>\n",
       "      <th>top</th>\n",
       "      <td>xx31026369</td>\n",
       "      <td>72b90e8a-1960-44f6-9bfc-a19a9410bd47</td>\n",
       "      <td>Sat, 7 May 2022 14:44:27 UTC</td>\n",
       "      <td>TX-SFXRDR</td>\n",
       "      <td>We are unable to get your location. Location i...</td>\n",
       "    </tr>\n",
       "    <tr>\n",
       "      <th>freq</th>\n",
       "      <td>7880</td>\n",
       "      <td>7880</td>\n",
       "      <td>2001</td>\n",
       "      <td>3401</td>\n",
       "      <td>1151</td>\n",
       "    </tr>\n",
       "  </tbody>\n",
       "</table>\n",
       "</div>"
      ],
      "text/plain": [
       "       phoneNumber                                    id  \\\n",
       "count       100243                                100243   \n",
       "unique          93                                    93   \n",
       "top     xx31026369  72b90e8a-1960-44f6-9bfc-a19a9410bd47   \n",
       "freq          7880                                  7880   \n",
       "\n",
       "                            updateAt senderAddress  \\\n",
       "count                         100243        100243   \n",
       "unique                           138          8929   \n",
       "top     Sat, 7 May 2022 14:44:27 UTC     TX-SFXRDR   \n",
       "freq                            2001          3401   \n",
       "\n",
       "                                                     text  \n",
       "count                                              100237  \n",
       "unique                                              59377  \n",
       "top     We are unable to get your location. Location i...  \n",
       "freq                                                 1151  "
      ]
     },
     "execution_count": 3,
     "metadata": {},
     "output_type": "execute_result"
    }
   ],
   "source": [
    "# assessing the file\n",
    "file.describe()"
   ]
  },
  {
   "cell_type": "code",
   "execution_count": 4,
   "id": "8fbfdb84",
   "metadata": {},
   "outputs": [
    {
     "name": "stdout",
     "output_type": "stream",
     "text": [
      "<class 'pandas.core.frame.DataFrame'>\n",
      "RangeIndex: 100243 entries, 0 to 100242\n",
      "Data columns (total 5 columns):\n",
      " #   Column         Non-Null Count   Dtype \n",
      "---  ------         --------------   ----- \n",
      " 0   phoneNumber    100243 non-null  object\n",
      " 1   id             100243 non-null  object\n",
      " 2   updateAt       100243 non-null  object\n",
      " 3   senderAddress  100243 non-null  object\n",
      " 4   text           100237 non-null  object\n",
      "dtypes: object(5)\n",
      "memory usage: 3.8+ MB\n"
     ]
    }
   ],
   "source": [
    "file.info()"
   ]
  },
  {
   "cell_type": "markdown",
   "id": "7ca8ae9f",
   "metadata": {},
   "source": []
  },
  {
   "cell_type": "markdown",
   "id": "fdf47a58",
   "metadata": {},
   "source": []
  },
  {
   "cell_type": "code",
   "execution_count": 5,
   "id": "6e41720f",
   "metadata": {},
   "outputs": [
    {
     "data": {
      "text/plain": [
       "93"
      ]
     },
     "execution_count": 5,
     "metadata": {},
     "output_type": "execute_result"
    }
   ],
   "source": [
    "file['phoneNumber'].nunique()"
   ]
  },
  {
   "cell_type": "code",
   "execution_count": 6,
   "id": "ff48a866",
   "metadata": {},
   "outputs": [
    {
     "data": {
      "text/html": [
       "<div>\n",
       "<style scoped>\n",
       "    .dataframe tbody tr th:only-of-type {\n",
       "        vertical-align: middle;\n",
       "    }\n",
       "\n",
       "    .dataframe tbody tr th {\n",
       "        vertical-align: top;\n",
       "    }\n",
       "\n",
       "    .dataframe thead th {\n",
       "        text-align: right;\n",
       "    }\n",
       "</style>\n",
       "<table border=\"1\" class=\"dataframe\">\n",
       "  <thead>\n",
       "    <tr style=\"text-align: right;\">\n",
       "      <th></th>\n",
       "      <th>phone_number</th>\n",
       "      <th>id</th>\n",
       "      <th>update_at</th>\n",
       "      <th>sender_address</th>\n",
       "      <th>text</th>\n",
       "    </tr>\n",
       "  </thead>\n",
       "  <tbody>\n",
       "    <tr>\n",
       "      <th>0</th>\n",
       "      <td>xx39973810</td>\n",
       "      <td>baa1668c-049e-4118-938e-cc804f1e73aa</td>\n",
       "      <td>Sat, 7 May 2022 19:48:00 UTC</td>\n",
       "      <td>JK-SmplPL</td>\n",
       "      <td>Rs.95.15 on Zomato charged via Simpl.\\r\\n--\\r\\...</td>\n",
       "    </tr>\n",
       "    <tr>\n",
       "      <th>1</th>\n",
       "      <td>xx39973810</td>\n",
       "      <td>baa1668c-049e-4118-938e-cc804f1e73aa</td>\n",
       "      <td>Sat, 7 May 2022 19:48:00 UTC</td>\n",
       "      <td>VP-ViCARE</td>\n",
       "      <td>Hi! Update your email id through WhatsApp: htt...</td>\n",
       "    </tr>\n",
       "    <tr>\n",
       "      <th>2</th>\n",
       "      <td>xx39973810</td>\n",
       "      <td>baa1668c-049e-4118-938e-cc804f1e73aa</td>\n",
       "      <td>Sat, 7 May 2022 19:48:00 UTC</td>\n",
       "      <td>VP-612345</td>\n",
       "      <td>Lucknow ya Kolkata ? - watch it LIVE with Vi c...</td>\n",
       "    </tr>\n",
       "    <tr>\n",
       "      <th>3</th>\n",
       "      <td>xx39973810</td>\n",
       "      <td>baa1668c-049e-4118-938e-cc804f1e73aa</td>\n",
       "      <td>Sat, 7 May 2022 19:48:00 UTC</td>\n",
       "      <td>BP-ACKOGI</td>\n",
       "      <td>Mohd,\\nCheck the incredible Acko insurance pol...</td>\n",
       "    </tr>\n",
       "    <tr>\n",
       "      <th>4</th>\n",
       "      <td>xx39973810</td>\n",
       "      <td>baa1668c-049e-4118-938e-cc804f1e73aa</td>\n",
       "      <td>Sat, 7 May 2022 19:48:00 UTC</td>\n",
       "      <td>VP-ViCARE</td>\n",
       "      <td>Hi! You can now get your Vi prepaid invoice em...</td>\n",
       "    </tr>\n",
       "  </tbody>\n",
       "</table>\n",
       "</div>"
      ],
      "text/plain": [
       "  phone_number                                    id  \\\n",
       "0   xx39973810  baa1668c-049e-4118-938e-cc804f1e73aa   \n",
       "1   xx39973810  baa1668c-049e-4118-938e-cc804f1e73aa   \n",
       "2   xx39973810  baa1668c-049e-4118-938e-cc804f1e73aa   \n",
       "3   xx39973810  baa1668c-049e-4118-938e-cc804f1e73aa   \n",
       "4   xx39973810  baa1668c-049e-4118-938e-cc804f1e73aa   \n",
       "\n",
       "                      update_at sender_address  \\\n",
       "0  Sat, 7 May 2022 19:48:00 UTC      JK-SmplPL   \n",
       "1  Sat, 7 May 2022 19:48:00 UTC      VP-ViCARE   \n",
       "2  Sat, 7 May 2022 19:48:00 UTC      VP-612345   \n",
       "3  Sat, 7 May 2022 19:48:00 UTC      BP-ACKOGI   \n",
       "4  Sat, 7 May 2022 19:48:00 UTC      VP-ViCARE   \n",
       "\n",
       "                                                text  \n",
       "0  Rs.95.15 on Zomato charged via Simpl.\\r\\n--\\r\\...  \n",
       "1  Hi! Update your email id through WhatsApp: htt...  \n",
       "2  Lucknow ya Kolkata ? - watch it LIVE with Vi c...  \n",
       "3  Mohd,\\nCheck the incredible Acko insurance pol...  \n",
       "4  Hi! You can now get your Vi prepaid invoice em...  "
      ]
     },
     "execution_count": 6,
     "metadata": {},
     "output_type": "execute_result"
    }
   ],
   "source": [
    "#re-writing the columns in lowercase separated by \"_\"\n",
    "file.rename(columns={\"phoneNumber\":\"phone_number\",\"updateAt\":\"update_at\",\"senderAddress\":\"sender_address\"},inplace=True)\n",
    "file.head()"
   ]
  },
  {
   "cell_type": "code",
   "execution_count": 7,
   "id": "e87449ec",
   "metadata": {},
   "outputs": [
    {
     "data": {
      "text/html": [
       "<div>\n",
       "<style scoped>\n",
       "    .dataframe tbody tr th:only-of-type {\n",
       "        vertical-align: middle;\n",
       "    }\n",
       "\n",
       "    .dataframe tbody tr th {\n",
       "        vertical-align: top;\n",
       "    }\n",
       "\n",
       "    .dataframe thead th {\n",
       "        text-align: right;\n",
       "    }\n",
       "</style>\n",
       "<table border=\"1\" class=\"dataframe\">\n",
       "  <thead>\n",
       "    <tr style=\"text-align: right;\">\n",
       "      <th></th>\n",
       "      <th>phone_number</th>\n",
       "      <th>id</th>\n",
       "      <th>sender_address</th>\n",
       "      <th>text</th>\n",
       "      <th>date</th>\n",
       "      <th>time</th>\n",
       "    </tr>\n",
       "  </thead>\n",
       "  <tbody>\n",
       "    <tr>\n",
       "      <th>0</th>\n",
       "      <td>xx39973810</td>\n",
       "      <td>baa1668c-049e-4118-938e-cc804f1e73aa</td>\n",
       "      <td>JK-SmplPL</td>\n",
       "      <td>Rs.95.15 on Zomato charged via Simpl.\\r\\n--\\r\\...</td>\n",
       "      <td>2022-05-07</td>\n",
       "      <td>19:48:00</td>\n",
       "    </tr>\n",
       "    <tr>\n",
       "      <th>1</th>\n",
       "      <td>xx39973810</td>\n",
       "      <td>baa1668c-049e-4118-938e-cc804f1e73aa</td>\n",
       "      <td>VP-ViCARE</td>\n",
       "      <td>Hi! Update your email id through WhatsApp: htt...</td>\n",
       "      <td>2022-05-07</td>\n",
       "      <td>19:48:00</td>\n",
       "    </tr>\n",
       "    <tr>\n",
       "      <th>2</th>\n",
       "      <td>xx39973810</td>\n",
       "      <td>baa1668c-049e-4118-938e-cc804f1e73aa</td>\n",
       "      <td>VP-612345</td>\n",
       "      <td>Lucknow ya Kolkata ? - watch it LIVE with Vi c...</td>\n",
       "      <td>2022-05-07</td>\n",
       "      <td>19:48:00</td>\n",
       "    </tr>\n",
       "    <tr>\n",
       "      <th>3</th>\n",
       "      <td>xx39973810</td>\n",
       "      <td>baa1668c-049e-4118-938e-cc804f1e73aa</td>\n",
       "      <td>BP-ACKOGI</td>\n",
       "      <td>Mohd,\\nCheck the incredible Acko insurance pol...</td>\n",
       "      <td>2022-05-07</td>\n",
       "      <td>19:48:00</td>\n",
       "    </tr>\n",
       "    <tr>\n",
       "      <th>4</th>\n",
       "      <td>xx39973810</td>\n",
       "      <td>baa1668c-049e-4118-938e-cc804f1e73aa</td>\n",
       "      <td>VP-ViCARE</td>\n",
       "      <td>Hi! You can now get your Vi prepaid invoice em...</td>\n",
       "      <td>2022-05-07</td>\n",
       "      <td>19:48:00</td>\n",
       "    </tr>\n",
       "  </tbody>\n",
       "</table>\n",
       "</div>"
      ],
      "text/plain": [
       "  phone_number                                    id sender_address  \\\n",
       "0   xx39973810  baa1668c-049e-4118-938e-cc804f1e73aa      JK-SmplPL   \n",
       "1   xx39973810  baa1668c-049e-4118-938e-cc804f1e73aa      VP-ViCARE   \n",
       "2   xx39973810  baa1668c-049e-4118-938e-cc804f1e73aa      VP-612345   \n",
       "3   xx39973810  baa1668c-049e-4118-938e-cc804f1e73aa      BP-ACKOGI   \n",
       "4   xx39973810  baa1668c-049e-4118-938e-cc804f1e73aa      VP-ViCARE   \n",
       "\n",
       "                                                text        date      time  \n",
       "0  Rs.95.15 on Zomato charged via Simpl.\\r\\n--\\r\\...  2022-05-07  19:48:00  \n",
       "1  Hi! Update your email id through WhatsApp: htt...  2022-05-07  19:48:00  \n",
       "2  Lucknow ya Kolkata ? - watch it LIVE with Vi c...  2022-05-07  19:48:00  \n",
       "3  Mohd,\\nCheck the incredible Acko insurance pol...  2022-05-07  19:48:00  \n",
       "4  Hi! You can now get your Vi prepaid invoice em...  2022-05-07  19:48:00  "
      ]
     },
     "execution_count": 7,
     "metadata": {},
     "output_type": "execute_result"
    }
   ],
   "source": [
    "# Splitting the update_at column into date and time columns respectively and dropping the update_at column\n",
    "\n",
    "# Splitting\n",
    "file['update_at'] = pd.to_datetime(file['update_at'])\n",
    "file['date'] = file['update_at'].dt.date\n",
    "file['time'] = file['update_at'].dt.time\n",
    "\n",
    "#Dropping\n",
    "file.drop('update_at',axis=1,inplace=True)\n",
    "file.head()"
   ]
  },
  {
   "cell_type": "markdown",
   "id": "497bfd63",
   "metadata": {},
   "source": []
  },
  {
   "cell_type": "code",
   "execution_count": 8,
   "id": "35eff858",
   "metadata": {},
   "outputs": [],
   "source": [
    "#Transaction related texts\n",
    "transactions_text = file['text'].str.contains('data|recharge|payment|bank|otp|money|alert|credit|debit|Amt|paid|deduct|deducted', case=False) == True\n",
    "transactions = file[transactions_text]\n",
    "# Credit related texts\n",
    "debit_text = transactions['text'].str.contains('debited|(alert&debit)|deducted', case=False) == True\n",
    "debits = transactions[debit_text]\n",
    "\n",
    "#Debit related texts\n",
    "credits = transactions[~debit_text]\n",
    "\n",
    "\n",
    "# Non-transaction related texts\n",
    "non_transactions = file[~transactions_text]"
   ]
  },
  {
   "cell_type": "code",
   "execution_count": 9,
   "id": "aeb72851",
   "metadata": {},
   "outputs": [
    {
     "data": {
      "text/html": [
       "<div>\n",
       "<style scoped>\n",
       "    .dataframe tbody tr th:only-of-type {\n",
       "        vertical-align: middle;\n",
       "    }\n",
       "\n",
       "    .dataframe tbody tr th {\n",
       "        vertical-align: top;\n",
       "    }\n",
       "\n",
       "    .dataframe thead th {\n",
       "        text-align: right;\n",
       "    }\n",
       "</style>\n",
       "<table border=\"1\" class=\"dataframe\">\n",
       "  <thead>\n",
       "    <tr style=\"text-align: right;\">\n",
       "      <th></th>\n",
       "      <th>phone_number</th>\n",
       "      <th>id</th>\n",
       "      <th>sender_address</th>\n",
       "      <th>text</th>\n",
       "      <th>date</th>\n",
       "      <th>time</th>\n",
       "    </tr>\n",
       "  </thead>\n",
       "  <tbody>\n",
       "    <tr>\n",
       "      <th>97</th>\n",
       "      <td>xx80368198</td>\n",
       "      <td>af5cdc15-98d7-40c6-a85d-f8bd7ee8f5e9</td>\n",
       "      <td>VM-INDBNK</td>\n",
       "      <td>Your a/c. XXXX4658 is credited by Rs. 50.00 on...</td>\n",
       "      <td>2022-05-03</td>\n",
       "      <td>08:53:39</td>\n",
       "    </tr>\n",
       "    <tr>\n",
       "      <th>264</th>\n",
       "      <td>xx80368198</td>\n",
       "      <td>af5cdc15-98d7-40c6-a85d-f8bd7ee8f5e9</td>\n",
       "      <td>VM-JNGRMY</td>\n",
       "      <td>Rs. 15 , added just for you! We've credited yo...</td>\n",
       "      <td>2022-05-03</td>\n",
       "      <td>08:53:39</td>\n",
       "    </tr>\n",
       "    <tr>\n",
       "      <th>350</th>\n",
       "      <td>xx80368198</td>\n",
       "      <td>af5cdc15-98d7-40c6-a85d-f8bd7ee8f5e9</td>\n",
       "      <td>MPLPRO</td>\n",
       "      <td>Congrats! We've credited Ludo Win ticket to yo...</td>\n",
       "      <td>2022-05-03</td>\n",
       "      <td>08:53:39</td>\n",
       "    </tr>\n",
       "    <tr>\n",
       "      <th>379</th>\n",
       "      <td>xx80368198</td>\n",
       "      <td>af5cdc15-98d7-40c6-a85d-f8bd7ee8f5e9</td>\n",
       "      <td>VM-INDBNK</td>\n",
       "      <td>Your a/c. XXXX4658 is credited by Rs. 20.00 on...</td>\n",
       "      <td>2022-05-03</td>\n",
       "      <td>08:53:39</td>\n",
       "    </tr>\n",
       "    <tr>\n",
       "      <th>390</th>\n",
       "      <td>xx80368198</td>\n",
       "      <td>af5cdc15-98d7-40c6-a85d-f8bd7ee8f5e9</td>\n",
       "      <td>BV-INDBNK</td>\n",
       "      <td>Your A/c XXX1824658  is credited by Rs. 6,000 ...</td>\n",
       "      <td>2022-05-03</td>\n",
       "      <td>08:53:39</td>\n",
       "    </tr>\n",
       "  </tbody>\n",
       "</table>\n",
       "</div>"
      ],
      "text/plain": [
       "    phone_number                                    id sender_address  \\\n",
       "97    xx80368198  af5cdc15-98d7-40c6-a85d-f8bd7ee8f5e9      VM-INDBNK   \n",
       "264   xx80368198  af5cdc15-98d7-40c6-a85d-f8bd7ee8f5e9      VM-JNGRMY   \n",
       "350   xx80368198  af5cdc15-98d7-40c6-a85d-f8bd7ee8f5e9         MPLPRO   \n",
       "379   xx80368198  af5cdc15-98d7-40c6-a85d-f8bd7ee8f5e9      VM-INDBNK   \n",
       "390   xx80368198  af5cdc15-98d7-40c6-a85d-f8bd7ee8f5e9      BV-INDBNK   \n",
       "\n",
       "                                                  text        date      time  \n",
       "97   Your a/c. XXXX4658 is credited by Rs. 50.00 on...  2022-05-03  08:53:39  \n",
       "264  Rs. 15 , added just for you! We've credited yo...  2022-05-03  08:53:39  \n",
       "350  Congrats! We've credited Ludo Win ticket to yo...  2022-05-03  08:53:39  \n",
       "379  Your a/c. XXXX4658 is credited by Rs. 20.00 on...  2022-05-03  08:53:39  \n",
       "390  Your A/c XXX1824658  is credited by Rs. 6,000 ...  2022-05-03  08:53:39  "
      ]
     },
     "execution_count": 9,
     "metadata": {},
     "output_type": "execute_result"
    }
   ],
   "source": [
    "credit_related_texts = credits[credits['text'].str.contains('credited') == True]\n",
    "credit_related_texts.head(5)"
   ]
  },
  {
   "cell_type": "code",
   "execution_count": 10,
   "id": "33836cc1",
   "metadata": {
    "scrolled": true
   },
   "outputs": [
    {
     "data": {
      "text/html": [
       "<div>\n",
       "<style scoped>\n",
       "    .dataframe tbody tr th:only-of-type {\n",
       "        vertical-align: middle;\n",
       "    }\n",
       "\n",
       "    .dataframe tbody tr th {\n",
       "        vertical-align: top;\n",
       "    }\n",
       "\n",
       "    .dataframe thead th {\n",
       "        text-align: right;\n",
       "    }\n",
       "</style>\n",
       "<table border=\"1\" class=\"dataframe\">\n",
       "  <thead>\n",
       "    <tr style=\"text-align: right;\">\n",
       "      <th></th>\n",
       "      <th>phone_number</th>\n",
       "      <th>id</th>\n",
       "      <th>sender_address</th>\n",
       "      <th>text</th>\n",
       "      <th>date</th>\n",
       "      <th>time</th>\n",
       "    </tr>\n",
       "  </thead>\n",
       "  <tbody>\n",
       "    <tr>\n",
       "      <th>53</th>\n",
       "      <td>xx80368198</td>\n",
       "      <td>af5cdc15-98d7-40c6-a85d-f8bd7ee8f5e9</td>\n",
       "      <td>VM-IndBnk</td>\n",
       "      <td>Your VPA sanju39chd@okaxis linked to Indian Ba...</td>\n",
       "      <td>2022-05-03</td>\n",
       "      <td>08:53:39</td>\n",
       "    </tr>\n",
       "    <tr>\n",
       "      <th>59</th>\n",
       "      <td>xx80368198</td>\n",
       "      <td>af5cdc15-98d7-40c6-a85d-f8bd7ee8f5e9</td>\n",
       "      <td>VM-IndBnk</td>\n",
       "      <td>Your VPA sanju39chd@okaxis linked to Indian Ba...</td>\n",
       "      <td>2022-05-03</td>\n",
       "      <td>08:53:39</td>\n",
       "    </tr>\n",
       "    <tr>\n",
       "      <th>60</th>\n",
       "      <td>xx80368198</td>\n",
       "      <td>af5cdc15-98d7-40c6-a85d-f8bd7ee8f5e9</td>\n",
       "      <td>VK-IndBnk</td>\n",
       "      <td>Your VPA 6280368198@paytm linked to Indian Ban...</td>\n",
       "      <td>2022-05-03</td>\n",
       "      <td>08:53:39</td>\n",
       "    </tr>\n",
       "    <tr>\n",
       "      <th>70</th>\n",
       "      <td>xx80368198</td>\n",
       "      <td>af5cdc15-98d7-40c6-a85d-f8bd7ee8f5e9</td>\n",
       "      <td>VK-IndBnk</td>\n",
       "      <td>Your VPA 6280368198@ybl linked to Indian Bank ...</td>\n",
       "      <td>2022-05-03</td>\n",
       "      <td>08:53:39</td>\n",
       "    </tr>\n",
       "    <tr>\n",
       "      <th>73</th>\n",
       "      <td>xx80368198</td>\n",
       "      <td>af5cdc15-98d7-40c6-a85d-f8bd7ee8f5e9</td>\n",
       "      <td>VK-IndBnk</td>\n",
       "      <td>Your VPA sanju39chd@okaxis linked to Indian Ba...</td>\n",
       "      <td>2022-05-03</td>\n",
       "      <td>08:53:39</td>\n",
       "    </tr>\n",
       "  </tbody>\n",
       "</table>\n",
       "</div>"
      ],
      "text/plain": [
       "   phone_number                                    id sender_address  \\\n",
       "53   xx80368198  af5cdc15-98d7-40c6-a85d-f8bd7ee8f5e9      VM-IndBnk   \n",
       "59   xx80368198  af5cdc15-98d7-40c6-a85d-f8bd7ee8f5e9      VM-IndBnk   \n",
       "60   xx80368198  af5cdc15-98d7-40c6-a85d-f8bd7ee8f5e9      VK-IndBnk   \n",
       "70   xx80368198  af5cdc15-98d7-40c6-a85d-f8bd7ee8f5e9      VK-IndBnk   \n",
       "73   xx80368198  af5cdc15-98d7-40c6-a85d-f8bd7ee8f5e9      VK-IndBnk   \n",
       "\n",
       "                                                 text        date      time  \n",
       "53  Your VPA sanju39chd@okaxis linked to Indian Ba...  2022-05-03  08:53:39  \n",
       "59  Your VPA sanju39chd@okaxis linked to Indian Ba...  2022-05-03  08:53:39  \n",
       "60  Your VPA 6280368198@paytm linked to Indian Ban...  2022-05-03  08:53:39  \n",
       "70  Your VPA 6280368198@ybl linked to Indian Bank ...  2022-05-03  08:53:39  \n",
       "73  Your VPA sanju39chd@okaxis linked to Indian Ba...  2022-05-03  08:53:39  "
      ]
     },
     "execution_count": 10,
     "metadata": {},
     "output_type": "execute_result"
    }
   ],
   "source": [
    "debit_related_texts = debits[debits['text'].str.contains('debited') == True]\n",
    "debit_related_texts.head(5)"
   ]
  },
  {
   "cell_type": "code",
   "execution_count": 11,
   "id": "15974209",
   "metadata": {},
   "outputs": [
    {
     "name": "stdout",
     "output_type": "stream",
     "text": [
      "credit related texts count: 2506\n",
      "debit related texts count: 5179\n"
     ]
    }
   ],
   "source": [
    "# Checking the credit and debit related texts counts fo visualization\n",
    "print(f\"credit related texts count: {credit_related_texts['text'].count()}\")\n",
    "print(f\"debit related texts count: {debit_related_texts['text'].count()}\")"
   ]
  },
  {
   "cell_type": "code",
   "execution_count": 12,
   "id": "b9bf9584",
   "metadata": {},
   "outputs": [
    {
     "data": {
      "text/plain": [
       "Text(0.5, 1.0, 'DEBIT VS CREDIT')"
      ]
     },
     "execution_count": 12,
     "metadata": {},
     "output_type": "execute_result"
    },
    {
     "data": {
      "image/png": "[encoded data removed]",
      "text/plain": [
       "<Figure size 1080x576 with 1 Axes>"
      ]
     },
     "metadata": {
      "needs_background": "light"
     },
     "output_type": "display_data"
    }
   ],
   "source": [
    "# Plot of counts of debit related and credit related texts\n",
    "plt.figure(figsize=(15,8))\n",
    "plt.barh(\"credit\",credit_related_texts['text'].count(),color=\"red\")\n",
    "plt.barh(\"debit\",debit_related_texts['text'].count(),color=\"blue\")\n",
    "plt.xlabel(\"Number of texts\",fontdict={\"fontsize\":15},color=\"black\")\n",
    "plt.ylabel(\"Type of text\",fontdict={\"fontsize\":15},color=\"black\")\n",
    "plt.title(\"DEBIT VS CREDIT\",fontdict={\"fontsize\":15},color=\"black\")"
   ]
  },
  {
   "cell_type": "code",
   "execution_count": 13,
   "id": "265e2156",
   "metadata": {},
   "outputs": [
    {
     "name": "stdout",
     "output_type": "stream",
     "text": [
      "credit count: date\n",
      "2022-05-01     25\n",
      "2022-05-02     70\n",
      "2022-05-03    158\n",
      "2022-05-04    313\n",
      "2022-05-05     53\n",
      "2022-05-06    162\n",
      "2022-05-07    110\n",
      "2022-05-08     42\n",
      "2022-05-09    146\n",
      "2022-05-10    774\n",
      "2022-05-11    417\n",
      "2022-05-12    236\n",
      "Name: text, dtype: int64 \n",
      " debit count: date\n",
      "2022-04-30      16\n",
      "2022-05-01      53\n",
      "2022-05-02     157\n",
      "2022-05-03     300\n",
      "2022-05-04     656\n",
      "2022-05-05     126\n",
      "2022-05-06     378\n",
      "2022-05-07     137\n",
      "2022-05-08     102\n",
      "2022-05-09     367\n",
      "2022-05-10    1725\n",
      "2022-05-11     879\n",
      "2022-05-12     283\n",
      "Name: text, dtype: int64\n"
     ]
    }
   ],
   "source": [
    "# Using the groupby function to group the texts and making the count\n",
    "\n",
    "credit_count = credit_related_texts.groupby('date').count()['text']\n",
    "debit_count = debit_related_texts.groupby('date').count()['text']\n",
    "print(f\"credit count: {credit_count} \\n debit count: {debit_count}\")"
   ]
  },
  {
   "cell_type": "code",
   "execution_count": 14,
   "id": "91d6c789",
   "metadata": {},
   "outputs": [
    {
     "name": "stdout",
     "output_type": "stream",
     "text": [
      "credit count: {datetime.date(2022, 4, 30): 0, datetime.date(2022, 5, 1): 25, datetime.date(2022, 5, 2): 70, datetime.date(2022, 5, 3): 158, datetime.date(2022, 5, 4): 313, datetime.date(2022, 5, 5): 53, datetime.date(2022, 5, 6): 162, datetime.date(2022, 5, 7): 110, datetime.date(2022, 5, 8): 42, datetime.date(2022, 5, 9): 146, datetime.date(2022, 5, 10): 774, datetime.date(2022, 5, 11): 417, datetime.date(2022, 5, 12): 236} \n",
      " debit count: {datetime.date(2022, 4, 30): 16, datetime.date(2022, 5, 1): 53, datetime.date(2022, 5, 2): 157, datetime.date(2022, 5, 3): 300, datetime.date(2022, 5, 4): 656, datetime.date(2022, 5, 5): 126, datetime.date(2022, 5, 6): 378, datetime.date(2022, 5, 7): 137, datetime.date(2022, 5, 8): 102, datetime.date(2022, 5, 9): 367, datetime.date(2022, 5, 10): 1725, datetime.date(2022, 5, 11): 879, datetime.date(2022, 5, 12): 283}\n"
     ]
    }
   ],
   "source": [
    "# Creating a dictionary from the given dataframe for easy visualization\n",
    "\n",
    "# Credit\n",
    "credit_dict =  credit_count.to_dict()\n",
    "credit_keys = credit_dict.keys()\n",
    "credit_values = credit_dict.values()\n",
    "\n",
    "# Debit\n",
    "debit_dict =  debit_count.to_dict()\n",
    "debit_keys = debit_dict.keys()\n",
    "debit_values = debit_dict.values()\n",
    "\n",
    "# Taking the length of the two dictionaries into account and replacing with zero\n",
    "for key in debit_keys:\n",
    "    if key not in credit_keys:\n",
    "        credit_dict[key] = 0\n",
    "        \n",
    "credit_dict = sorted(credit_dict.items())\n",
    "credit_dict = dict(credit_dict)\n",
    "\n",
    "# Re_ordering credit dict\n",
    "credit_keys = credit_dict.keys()\n",
    "credit_values = credit_dict.values()\n",
    "\n",
    "print(f\"credit count: {credit_dict} \\n debit count: {debit_dict}\")"
   ]
  },
  {
   "cell_type": "code",
   "execution_count": 15,
   "id": "f7b3a757",
   "metadata": {},
   "outputs": [
    {
     "data": {
      "text/plain": [
       "<matplotlib.legend.Legend at 0x7ff9ede457c0>"
      ]
     },
     "execution_count": 15,
     "metadata": {},
     "output_type": "execute_result"
    },
    {
     "data": {
      "image/png": "[encoded data removed]",
      "text/plain": [
       "<Figure size 1080x576 with 1 Axes>"
      ]
     },
     "metadata": {
      "needs_background": "light"
     },
     "output_type": "display_data"
    }
   ],
   "source": [
    "# Plotting these using a barplot\n",
    "plt.figure(figsize=(15,8),edgecolor=\"black\")\n",
    "width = 0.5\n",
    "n = np.arange(len(debit_dict))\n",
    "plt.bar(n-0.25,credit_values,width,color='blue',label=\"credit\")\n",
    "plt.bar(n+0.25,debit_values,width,color='red',label=\"debit\")\n",
    "plt.xticks(n+width/2,credit_keys,rotation=90)\n",
    "plt.xlabel(\"Date of text\",fontdict={\"fontsize\":15},color=\"black\")\n",
    "plt.ylabel(\"Number of texts per day\",fontdict={\"fontsize\":15},color=\"black\")\n",
    "plt.title(\"Number of Transactions per day\",fontdict={\"fontsize\":15},color=\"black\")\n",
    "plt.legend()"
   ]
  },
  {
   "cell_type": "code",
   "execution_count": 74,
   "id": "2f5a44eb",
   "metadata": {},
   "outputs": [
    {
     "data": {
      "text/plain": [
       "True"
      ]
     },
     "execution_count": 74,
     "metadata": {},
     "output_type": "execute_result"
    }
   ],
   "source": [
    "# Top_20 Most Debited Persons \n",
    "Debited_persons = debit_related_texts.groupby('phone_number').count()['text']\n",
    "# Making a dictionary out of the extracted piece\n",
    "Debited_persons_dict = dict(Debited_persons)\n",
    "\n",
    "# Top_20 Most Debited Persons \n",
    "Credited_persons = credit_related_texts.groupby('phone_number').count()['text']\n",
    "# Making a dictionary out of the extracted piece\n",
    "Credited_persons_dict = dict(Credited_persons)\n",
    "\n",
    "# Sorting by the values\n",
    "sorted_Debited_persons = sorted(Debited_persons_dict.items(),key=lambda x:x[1],reverse=True)\n",
    "sorted_Credited_persons = sorted(Credited_persons_dict.items(),key=lambda x:x[1],reverse=True)\n",
    "\n",
    "sorted_Credited_persons = dict(sorted_Credited_persons)\n",
    "sorted_Debited_persons = dict(sorted_Debited_persons)\n",
    "\n",
    "# Extracting the top_20 \n",
    "\n",
    "#Debited\n",
    "top_20_Debited_persons = dict(itertools.islice(sorted_Debited_persons.items(), 20))\n",
    "# Credited\n",
    "top_20_Credited_persons = dict(itertools.islice(sorted_Credited_persons.items(), 20))\n",
    "\n",
    "# Taking into account the numbers present in the larger one and not in the smaller one.\n",
    "for person in top_20_Credited_persons.keys():\n",
    "    if person not in top_20_Debited_persons.keys():\n",
    "        top_20_Debited_persons[person] = 0\n",
    "\n",
    "# Re-using the same for loop in reverse to take into account the numbers that might have been present in one\n",
    "# and not the other.\n",
    "\n",
    "for person in top_20_Debited_persons.keys():\n",
    "    if person not in top_20_Credited_persons.keys():\n",
    "        top_20_Credited_persons[person] = 0\n",
    "\n",
    "# Verifying our answers to make sure they are of the same length\n",
    "# This has to return True otherwise its wrong.\n",
    "\n",
    "\n",
    "# Now Sorting by keys for accurate visuals \n",
    "top_20_Debited_persons = sorted(top_20_Debited_persons.items(),key=lambda x:x[0],reverse=True)\n",
    "top_20_Credited_persons = sorted(top_20_Credited_persons.items(),key=lambda x:x[0],reverse=True)\n",
    "\n",
    "top_20_Debited_persons = dict(top_20_Debited_persons)\n",
    "top_20_Credited_persons = dict(top_20_Credited_persons)\n",
    "\n",
    "#test\n",
    "len(top_20_Credited_persons) == len(top_20_Debited_persons)"
   ]
  },
  {
   "cell_type": "code",
   "execution_count": 71,
   "id": "d5e94d64",
   "metadata": {},
   "outputs": [
    {
     "data": {
      "text/plain": [
       "<matplotlib.legend.Legend at 0x7ff9ec54e7f0>"
      ]
     },
     "execution_count": 71,
     "metadata": {},
     "output_type": "execute_result"
    },
    {
     "data": {
      "image/png": "[encoded data removed]",
      "text/plain": [
       "<Figure size 1080x576 with 1 Axes>"
      ]
     },
     "metadata": {
      "needs_background": "light"
     },
     "output_type": "display_data"
    }
   ],
   "source": [
    "# Plotting these two side by side using a barplot\n",
    "plt.figure(figsize=(15,8),edgecolor=\"black\")\n",
    "width = 0.5\n",
    "n = np.arange(len(top_20_Credited_persons))\n",
    "plt.bar(n-0.25,top_20_Credited_persons.values(),width,color='blue',label=\"Credited_persons\")\n",
    "plt.bar(n+0.25,top_20_Debited_persons.values(),width,color='red',label=\"Debited_persons\")\n",
    "plt.xticks(n+width/2,top_20_Credited_persons.keys(),rotation=90)\n",
    "plt.xlabel(\"Top Debited and Credited persons\",fontdict={\"fontsize\":15},color=\"black\")\n",
    "plt.ylabel(\"Number of debits and credits\",fontdict={\"fontsize\":15},color=\"black\")\n",
    "plt.title(\"Top 20 most debited vs Top 20 most credited\",fontdict={\"fontsize\":15},color=\"black\")\n",
    "plt.legend()"
   ]
  },
  {
   "cell_type": "markdown",
   "id": "c73e3a77",
   "metadata": {},
   "source": [
    "#### The increment in the above graph is as a result of the items in one **top_20** dictionary that is not present in the other. \n",
    "#### So there is a slight increment of which either one is of zero value. but the number of each candles is still 20."
   ]
  },
  {
   "cell_type": "code",
   "execution_count": null,
   "id": "c806017e",
   "metadata": {},
   "outputs": [],
   "source": []
  }
 ],
 "metadata": {
  "kernelspec": {
   "display_name": "Python 3",
   "language": "python",
   "name": "python3"
  },
  "language_info": {
   "codemirror_mode": {
    "name": "ipython",
    "version": 3
   },
   "file_extension": ".py",
   "mimetype": "text/x-python",
   "name": "python",
   "nbconvert_exporter": "python",
   "pygments_lexer": "ipython3",
   "version": "3.8.5"
  }
 },
 "nbformat": 4,
 "nbformat_minor": 5
}
