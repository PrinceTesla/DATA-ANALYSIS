{
 "cells": [
  {
   "cell_type": "code",
   "execution_count": 2,
   "id": "48a16a9f",
   "metadata": {},
   "outputs": [],
   "source": [
    "#Importing necessary libraries\n",
    "import os\n",
    "import requests\n",
    "import glob\n",
    "import numpy as np\n",
    "import pandas as pd\n",
    "import matplotlib.pyplot as plt\n",
    "from bs4 import BeautifulSoup as bs"
   ]
  },
  {
   "cell_type": "code",
   "execution_count": 3,
   "id": "29280309",
   "metadata": {},
   "outputs": [
    {
     "data": {
      "text/html": [
       "<div>\n",
       "<style scoped>\n",
       "    .dataframe tbody tr th:only-of-type {\n",
       "        vertical-align: middle;\n",
       "    }\n",
       "\n",
       "    .dataframe tbody tr th {\n",
       "        vertical-align: top;\n",
       "    }\n",
       "\n",
       "    .dataframe thead th {\n",
       "        text-align: right;\n",
       "    }\n",
       "</style>\n",
       "<table border=\"1\" class=\"dataframe\">\n",
       "  <thead>\n",
       "    <tr style=\"text-align: right;\">\n",
       "      <th></th>\n",
       "      <th>Store ID</th>\n",
       "      <th>Store_Area</th>\n",
       "      <th>Items_Available</th>\n",
       "      <th>Daily_Customer_Count</th>\n",
       "      <th>Store_Sales</th>\n",
       "    </tr>\n",
       "  </thead>\n",
       "  <tbody>\n",
       "    <tr>\n",
       "      <th>0</th>\n",
       "      <td>1</td>\n",
       "      <td>1659</td>\n",
       "      <td>1961</td>\n",
       "      <td>530</td>\n",
       "      <td>66490</td>\n",
       "    </tr>\n",
       "    <tr>\n",
       "      <th>1</th>\n",
       "      <td>2</td>\n",
       "      <td>1461</td>\n",
       "      <td>1752</td>\n",
       "      <td>210</td>\n",
       "      <td>39820</td>\n",
       "    </tr>\n",
       "    <tr>\n",
       "      <th>2</th>\n",
       "      <td>3</td>\n",
       "      <td>1340</td>\n",
       "      <td>1609</td>\n",
       "      <td>720</td>\n",
       "      <td>54010</td>\n",
       "    </tr>\n",
       "    <tr>\n",
       "      <th>3</th>\n",
       "      <td>4</td>\n",
       "      <td>1451</td>\n",
       "      <td>1748</td>\n",
       "      <td>620</td>\n",
       "      <td>53730</td>\n",
       "    </tr>\n",
       "    <tr>\n",
       "      <th>4</th>\n",
       "      <td>5</td>\n",
       "      <td>1770</td>\n",
       "      <td>2111</td>\n",
       "      <td>450</td>\n",
       "      <td>46620</td>\n",
       "    </tr>\n",
       "  </tbody>\n",
       "</table>\n",
       "</div>"
      ],
      "text/plain": [
       "   Store ID   Store_Area  Items_Available  Daily_Customer_Count  Store_Sales\n",
       "0          1        1659             1961                   530        66490\n",
       "1          2        1461             1752                   210        39820\n",
       "2          3        1340             1609                   720        54010\n",
       "3          4        1451             1748                   620        53730\n",
       "4          5        1770             2111                   450        46620"
      ]
     },
     "execution_count": 3,
     "metadata": {},
     "output_type": "execute_result"
    }
   ],
   "source": [
    "# Read in the sms CSV file\n",
    "file = pd.read_csv(\"Stores.csv\")\n",
    "file.head()"
   ]
  },
  {
   "cell_type": "code",
   "execution_count": 3,
   "id": "abf64899",
   "metadata": {},
   "outputs": [
    {
     "data": {
      "text/html": [
       "<div>\n",
       "<style scoped>\n",
       "    .dataframe tbody tr th:only-of-type {\n",
       "        vertical-align: middle;\n",
       "    }\n",
       "\n",
       "    .dataframe tbody tr th {\n",
       "        vertical-align: top;\n",
       "    }\n",
       "\n",
       "    .dataframe thead th {\n",
       "        text-align: right;\n",
       "    }\n",
       "</style>\n",
       "<table border=\"1\" class=\"dataframe\">\n",
       "  <thead>\n",
       "    <tr style=\"text-align: right;\">\n",
       "      <th></th>\n",
       "      <th>phoneNumber</th>\n",
       "      <th>id</th>\n",
       "      <th>updateAt</th>\n",
       "      <th>senderAddress</th>\n",
       "      <th>text</th>\n",
       "    </tr>\n",
       "  </thead>\n",
       "  <tbody>\n",
       "    <tr>\n",
       "      <th>count</th>\n",
       "      <td>100243</td>\n",
       "      <td>100243</td>\n",
       "      <td>100243</td>\n",
       "      <td>100243</td>\n",
       "      <td>100237</td>\n",
       "    </tr>\n",
       "    <tr>\n",
       "      <th>unique</th>\n",
       "      <td>93</td>\n",
       "      <td>93</td>\n",
       "      <td>138</td>\n",
       "      <td>8929</td>\n",
       "      <td>59377</td>\n",
       "    </tr>\n",
       "    <tr>\n",
       "      <th>top</th>\n",
       "      <td>xx31026369</td>\n",
       "      <td>72b90e8a-1960-44f6-9bfc-a19a9410bd47</td>\n",
       "      <td>Tue, 10 May 2022 07:24:02 UTC</td>\n",
       "      <td>TX-SFXRDR</td>\n",
       "      <td>We are unable to get your location. Location i...</td>\n",
       "    </tr>\n",
       "    <tr>\n",
       "      <th>freq</th>\n",
       "      <td>7880</td>\n",
       "      <td>7880</td>\n",
       "      <td>2001</td>\n",
       "      <td>3401</td>\n",
       "      <td>1151</td>\n",
       "    </tr>\n",
       "  </tbody>\n",
       "</table>\n",
       "</div>"
      ],
      "text/plain": [
       "       phoneNumber                                    id  \\\n",
       "count       100243                                100243   \n",
       "unique          93                                    93   \n",
       "top     xx31026369  72b90e8a-1960-44f6-9bfc-a19a9410bd47   \n",
       "freq          7880                                  7880   \n",
       "\n",
       "                             updateAt senderAddress  \\\n",
       "count                          100243        100243   \n",
       "unique                            138          8929   \n",
       "top     Tue, 10 May 2022 07:24:02 UTC     TX-SFXRDR   \n",
       "freq                             2001          3401   \n",
       "\n",
       "                                                     text  \n",
       "count                                              100237  \n",
       "unique                                              59377  \n",
       "top     We are unable to get your location. Location i...  \n",
       "freq                                                 1151  "
      ]
     },
     "execution_count": 3,
     "metadata": {},
     "output_type": "execute_result"
    }
   ],
   "source": [
    "# assessing the file\n",
    "file.describe()"
   ]
  },
  {
   "cell_type": "code",
   "execution_count": 4,
   "id": "cee12011",
   "metadata": {},
   "outputs": [
    {
     "name": "stdout",
     "output_type": "stream",
     "text": [
      "<class 'pandas.core.frame.DataFrame'>\n",
      "RangeIndex: 100243 entries, 0 to 100242\n",
      "Data columns (total 5 columns):\n",
      " #   Column         Non-Null Count   Dtype \n",
      "---  ------         --------------   ----- \n",
      " 0   phoneNumber    100243 non-null  object\n",
      " 1   id             100243 non-null  object\n",
      " 2   updateAt       100243 non-null  object\n",
      " 3   senderAddress  100243 non-null  object\n",
      " 4   text           100237 non-null  object\n",
      "dtypes: object(5)\n",
      "memory usage: 3.8+ MB\n"
     ]
    }
   ],
   "source": [
    "file.info()"
   ]
  },
  {
   "cell_type": "markdown",
   "id": "5456db4b",
   "metadata": {},
   "source": []
  },
  {
   "cell_type": "code",
   "execution_count": 9,
   "id": "28166d40",
   "metadata": {},
   "outputs": [
    {
     "data": {
      "text/plain": [
       "93"
      ]
     },
     "execution_count": 9,
     "metadata": {},
     "output_type": "execute_result"
    }
   ],
   "source": [
    "file['phoneNumber'].nunique()"
   ]
  },
  {
   "cell_type": "code",
   "execution_count": 18,
   "id": "5e032ea3",
   "metadata": {},
   "outputs": [
    {
     "data": {
      "text/html": [
       "<div>\n",
       "<style scoped>\n",
       "    .dataframe tbody tr th:only-of-type {\n",
       "        vertical-align: middle;\n",
       "    }\n",
       "\n",
       "    .dataframe tbody tr th {\n",
       "        vertical-align: top;\n",
       "    }\n",
       "\n",
       "    .dataframe thead th {\n",
       "        text-align: right;\n",
       "    }\n",
       "</style>\n",
       "<table border=\"1\" class=\"dataframe\">\n",
       "  <thead>\n",
       "    <tr style=\"text-align: right;\">\n",
       "      <th></th>\n",
       "      <th>phone_number</th>\n",
       "      <th>id</th>\n",
       "      <th>update_at</th>\n",
       "      <th>sender_address</th>\n",
       "      <th>text</th>\n",
       "    </tr>\n",
       "  </thead>\n",
       "  <tbody>\n",
       "    <tr>\n",
       "      <th>0</th>\n",
       "      <td>xx39973810</td>\n",
       "      <td>baa1668c-049e-4118-938e-cc804f1e73aa</td>\n",
       "      <td>Sat, 7 May 2022 19:48:00 UTC</td>\n",
       "      <td>JK-SmplPL</td>\n",
       "      <td>Rs.95.15 on Zomato charged via Simpl.\\r\\n--\\r\\...</td>\n",
       "    </tr>\n",
       "    <tr>\n",
       "      <th>1</th>\n",
       "      <td>xx39973810</td>\n",
       "      <td>baa1668c-049e-4118-938e-cc804f1e73aa</td>\n",
       "      <td>Sat, 7 May 2022 19:48:00 UTC</td>\n",
       "      <td>VP-ViCARE</td>\n",
       "      <td>Hi! Update your email id through WhatsApp: htt...</td>\n",
       "    </tr>\n",
       "    <tr>\n",
       "      <th>2</th>\n",
       "      <td>xx39973810</td>\n",
       "      <td>baa1668c-049e-4118-938e-cc804f1e73aa</td>\n",
       "      <td>Sat, 7 May 2022 19:48:00 UTC</td>\n",
       "      <td>VP-612345</td>\n",
       "      <td>Lucknow ya Kolkata ? - watch it LIVE with Vi c...</td>\n",
       "    </tr>\n",
       "    <tr>\n",
       "      <th>3</th>\n",
       "      <td>xx39973810</td>\n",
       "      <td>baa1668c-049e-4118-938e-cc804f1e73aa</td>\n",
       "      <td>Sat, 7 May 2022 19:48:00 UTC</td>\n",
       "      <td>BP-ACKOGI</td>\n",
       "      <td>Mohd,\\nCheck the incredible Acko insurance pol...</td>\n",
       "    </tr>\n",
       "    <tr>\n",
       "      <th>4</th>\n",
       "      <td>xx39973810</td>\n",
       "      <td>baa1668c-049e-4118-938e-cc804f1e73aa</td>\n",
       "      <td>Sat, 7 May 2022 19:48:00 UTC</td>\n",
       "      <td>VP-ViCARE</td>\n",
       "      <td>Hi! You can now get your Vi prepaid invoice em...</td>\n",
       "    </tr>\n",
       "  </tbody>\n",
       "</table>\n",
       "</div>"
      ],
      "text/plain": [
       "  phone_number                                    id  \\\n",
       "0   xx39973810  baa1668c-049e-4118-938e-cc804f1e73aa   \n",
       "1   xx39973810  baa1668c-049e-4118-938e-cc804f1e73aa   \n",
       "2   xx39973810  baa1668c-049e-4118-938e-cc804f1e73aa   \n",
       "3   xx39973810  baa1668c-049e-4118-938e-cc804f1e73aa   \n",
       "4   xx39973810  baa1668c-049e-4118-938e-cc804f1e73aa   \n",
       "\n",
       "                      update_at sender_address  \\\n",
       "0  Sat, 7 May 2022 19:48:00 UTC      JK-SmplPL   \n",
       "1  Sat, 7 May 2022 19:48:00 UTC      VP-ViCARE   \n",
       "2  Sat, 7 May 2022 19:48:00 UTC      VP-612345   \n",
       "3  Sat, 7 May 2022 19:48:00 UTC      BP-ACKOGI   \n",
       "4  Sat, 7 May 2022 19:48:00 UTC      VP-ViCARE   \n",
       "\n",
       "                                                text  \n",
       "0  Rs.95.15 on Zomato charged via Simpl.\\r\\n--\\r\\...  \n",
       "1  Hi! Update your email id through WhatsApp: htt...  \n",
       "2  Lucknow ya Kolkata ? - watch it LIVE with Vi c...  \n",
       "3  Mohd,\\nCheck the incredible Acko insurance pol...  \n",
       "4  Hi! You can now get your Vi prepaid invoice em...  "
      ]
     },
     "execution_count": 18,
     "metadata": {},
     "output_type": "execute_result"
    }
   ],
   "source": [
    "#re-writing the columns in lowercase separated by \"_\"\n",
    "file.rename(columns={\"phoneNumber\":\"phone_number\",\"updateAt\":\"update_at\",\"senderAddress\":\"sender_address\"},inplace=True)\n",
    "file.head()"
   ]
  },
  {
   "cell_type": "code",
   "execution_count": null,
   "id": "27242caf",
   "metadata": {},
   "outputs": [],
   "source": []
  }
 ],
 "metadata": {
  "kernelspec": {
   "display_name": "Python 3",
   "language": "python",
   "name": "python3"
  },
  "language_info": {
   "codemirror_mode": {
    "name": "ipython",
    "version": 3
   },
   "file_extension": ".py",
   "mimetype": "text/x-python",
   "name": "python",
   "nbconvert_exporter": "python",
   "pygments_lexer": "ipython3",
   "version": "3.8.5"
  }
 },
 "nbformat": 4,
 "nbformat_minor": 5
}
