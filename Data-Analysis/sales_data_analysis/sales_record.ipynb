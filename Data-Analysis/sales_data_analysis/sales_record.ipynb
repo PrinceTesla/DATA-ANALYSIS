{
 "cells": [
  {
   "cell_type": "markdown",
   "id": "93bab2df",
   "metadata": {},
   "source": [
    "# IMPORTING LIBRARIES"
   ]
  },
  {
   "cell_type": "code",
   "execution_count": 1,
   "id": "d4ade4cc",
   "metadata": {},
   "outputs": [],
   "source": [
    "import pandas as pd\n",
    "import numpy as np\n",
    "import seaborn as sns\n",
    "import matplotlib.pyplot as plt"
   ]
  },
  {
   "cell_type": "markdown",
   "id": "bc8b97b7",
   "metadata": {},
   "source": [
    "# READING FILE"
   ]
  },
  {
   "cell_type": "code",
   "execution_count": 2,
   "id": "80ce9c6a",
   "metadata": {
    "scrolled": false
   },
   "outputs": [
    {
     "data": {
      "text/html": [
       "<div>\n",
       "<style scoped>\n",
       "    .dataframe tbody tr th:only-of-type {\n",
       "        vertical-align: middle;\n",
       "    }\n",
       "\n",
       "    .dataframe tbody tr th {\n",
       "        vertical-align: top;\n",
       "    }\n",
       "\n",
       "    .dataframe thead th {\n",
       "        text-align: right;\n",
       "    }\n",
       "</style>\n",
       "<table border=\"1\" class=\"dataframe\">\n",
       "  <thead>\n",
       "    <tr style=\"text-align: right;\">\n",
       "      <th></th>\n",
       "      <th>Region</th>\n",
       "      <th>Country</th>\n",
       "      <th>Item Type</th>\n",
       "      <th>Sales Channel</th>\n",
       "      <th>Order Priority</th>\n",
       "      <th>Order Date</th>\n",
       "      <th>Order ID</th>\n",
       "      <th>Ship Date</th>\n",
       "      <th>Units Sold</th>\n",
       "      <th>Unit Price</th>\n",
       "      <th>Unit Cost</th>\n",
       "      <th>Total Revenue</th>\n",
       "      <th>Total Cost</th>\n",
       "      <th>Total Profit</th>\n",
       "    </tr>\n",
       "  </thead>\n",
       "  <tbody>\n",
       "    <tr>\n",
       "      <th>0</th>\n",
       "      <td>Middle East and North Africa</td>\n",
       "      <td>Libya</td>\n",
       "      <td>Cosmetics</td>\n",
       "      <td>Offline</td>\n",
       "      <td>M</td>\n",
       "      <td>10/18/2014</td>\n",
       "      <td>686800706</td>\n",
       "      <td>10/31/2014</td>\n",
       "      <td>8446</td>\n",
       "      <td>437.20</td>\n",
       "      <td>263.33</td>\n",
       "      <td>3692591.20</td>\n",
       "      <td>2224085.18</td>\n",
       "      <td>1468506.02</td>\n",
       "    </tr>\n",
       "    <tr>\n",
       "      <th>1</th>\n",
       "      <td>North America</td>\n",
       "      <td>Canada</td>\n",
       "      <td>Vegetables</td>\n",
       "      <td>Online</td>\n",
       "      <td>M</td>\n",
       "      <td>11/7/2011</td>\n",
       "      <td>185941302</td>\n",
       "      <td>12/8/2011</td>\n",
       "      <td>3018</td>\n",
       "      <td>154.06</td>\n",
       "      <td>90.93</td>\n",
       "      <td>464953.08</td>\n",
       "      <td>274426.74</td>\n",
       "      <td>190526.34</td>\n",
       "    </tr>\n",
       "    <tr>\n",
       "      <th>2</th>\n",
       "      <td>Middle East and North Africa</td>\n",
       "      <td>Libya</td>\n",
       "      <td>Baby Food</td>\n",
       "      <td>Offline</td>\n",
       "      <td>C</td>\n",
       "      <td>10/31/2016</td>\n",
       "      <td>246222341</td>\n",
       "      <td>12/9/2016</td>\n",
       "      <td>1517</td>\n",
       "      <td>255.28</td>\n",
       "      <td>159.42</td>\n",
       "      <td>387259.76</td>\n",
       "      <td>241840.14</td>\n",
       "      <td>145419.62</td>\n",
       "    </tr>\n",
       "    <tr>\n",
       "      <th>3</th>\n",
       "      <td>Asia</td>\n",
       "      <td>Japan</td>\n",
       "      <td>Cereal</td>\n",
       "      <td>Offline</td>\n",
       "      <td>C</td>\n",
       "      <td>4/10/2010</td>\n",
       "      <td>161442649</td>\n",
       "      <td>5/12/2010</td>\n",
       "      <td>3322</td>\n",
       "      <td>205.70</td>\n",
       "      <td>117.11</td>\n",
       "      <td>683335.40</td>\n",
       "      <td>389039.42</td>\n",
       "      <td>294295.98</td>\n",
       "    </tr>\n",
       "    <tr>\n",
       "      <th>4</th>\n",
       "      <td>Sub-Saharan Africa</td>\n",
       "      <td>Chad</td>\n",
       "      <td>Fruits</td>\n",
       "      <td>Offline</td>\n",
       "      <td>H</td>\n",
       "      <td>8/16/2011</td>\n",
       "      <td>645713555</td>\n",
       "      <td>8/31/2011</td>\n",
       "      <td>9845</td>\n",
       "      <td>9.33</td>\n",
       "      <td>6.92</td>\n",
       "      <td>91853.85</td>\n",
       "      <td>68127.40</td>\n",
       "      <td>23726.45</td>\n",
       "    </tr>\n",
       "  </tbody>\n",
       "</table>\n",
       "</div>"
      ],
      "text/plain": [
       "                         Region Country   Item Type Sales Channel  \\\n",
       "0  Middle East and North Africa   Libya   Cosmetics       Offline   \n",
       "1                 North America  Canada  Vegetables        Online   \n",
       "2  Middle East and North Africa   Libya   Baby Food       Offline   \n",
       "3                          Asia   Japan      Cereal       Offline   \n",
       "4            Sub-Saharan Africa    Chad      Fruits       Offline   \n",
       "\n",
       "  Order Priority  Order Date   Order ID   Ship Date  Units Sold  Unit Price  \\\n",
       "0              M  10/18/2014  686800706  10/31/2014        8446      437.20   \n",
       "1              M   11/7/2011  185941302   12/8/2011        3018      154.06   \n",
       "2              C  10/31/2016  246222341   12/9/2016        1517      255.28   \n",
       "3              C   4/10/2010  161442649   5/12/2010        3322      205.70   \n",
       "4              H   8/16/2011  645713555   8/31/2011        9845        9.33   \n",
       "\n",
       "   Unit Cost  Total Revenue  Total Cost  Total Profit  \n",
       "0     263.33     3692591.20  2224085.18    1468506.02  \n",
       "1      90.93      464953.08   274426.74     190526.34  \n",
       "2     159.42      387259.76   241840.14     145419.62  \n",
       "3     117.11      683335.40   389039.42     294295.98  \n",
       "4       6.92       91853.85    68127.40      23726.45  "
      ]
     },
     "execution_count": 2,
     "metadata": {},
     "output_type": "execute_result"
    }
   ],
   "source": [
    "file = pd.read_csv('Sales Records.csv')\n",
    "file.head()"
   ]
  },
  {
   "cell_type": "markdown",
   "id": "2bc42458",
   "metadata": {},
   "source": [
    "### CHANGING THE {Order Date and Ship Date} INTO A DATETIME FORMAT"
   ]
  },
  {
   "cell_type": "code",
   "execution_count": 3,
   "id": "fa2aecda",
   "metadata": {},
   "outputs": [],
   "source": [
    "file['Ship Date'] = pd.to_datetime(file['Ship Date'])\n",
    "file['Order Date'] = pd.to_datetime(file['Order Date'])"
   ]
  },
  {
   "cell_type": "code",
   "execution_count": 4,
   "id": "0e5ed372",
   "metadata": {},
   "outputs": [
    {
     "name": "stdout",
     "output_type": "stream",
     "text": [
      "<class 'pandas.core.frame.DataFrame'>\n",
      "RangeIndex: 1000 entries, 0 to 999\n",
      "Data columns (total 14 columns):\n",
      " #   Column          Non-Null Count  Dtype         \n",
      "---  ------          --------------  -----         \n",
      " 0   Region          1000 non-null   object        \n",
      " 1   Country         1000 non-null   object        \n",
      " 2   Item Type       1000 non-null   object        \n",
      " 3   Sales Channel   1000 non-null   object        \n",
      " 4   Order Priority  1000 non-null   object        \n",
      " 5   Order Date      1000 non-null   datetime64[ns]\n",
      " 6   Order ID        1000 non-null   int64         \n",
      " 7   Ship Date       1000 non-null   datetime64[ns]\n",
      " 8   Units Sold      1000 non-null   int64         \n",
      " 9   Unit Price      1000 non-null   float64       \n",
      " 10  Unit Cost       1000 non-null   float64       \n",
      " 11  Total Revenue   1000 non-null   float64       \n",
      " 12  Total Cost      1000 non-null   float64       \n",
      " 13  Total Profit    1000 non-null   float64       \n",
      "dtypes: datetime64[ns](2), float64(5), int64(2), object(5)\n",
      "memory usage: 109.5+ KB\n"
     ]
    }
   ],
   "source": [
    "file.info()"
   ]
  },
  {
   "cell_type": "code",
   "execution_count": 5,
   "id": "4e4c627f",
   "metadata": {},
   "outputs": [
    {
     "data": {
      "text/html": [
       "<div>\n",
       "<style scoped>\n",
       "    .dataframe tbody tr th:only-of-type {\n",
       "        vertical-align: middle;\n",
       "    }\n",
       "\n",
       "    .dataframe tbody tr th {\n",
       "        vertical-align: top;\n",
       "    }\n",
       "\n",
       "    .dataframe thead th {\n",
       "        text-align: right;\n",
       "    }\n",
       "</style>\n",
       "<table border=\"1\" class=\"dataframe\">\n",
       "  <thead>\n",
       "    <tr style=\"text-align: right;\">\n",
       "      <th></th>\n",
       "      <th>Order ID</th>\n",
       "      <th>Units Sold</th>\n",
       "      <th>Unit Price</th>\n",
       "      <th>Unit Cost</th>\n",
       "      <th>Total Revenue</th>\n",
       "      <th>Total Cost</th>\n",
       "      <th>Total Profit</th>\n",
       "    </tr>\n",
       "  </thead>\n",
       "  <tbody>\n",
       "    <tr>\n",
       "      <th>count</th>\n",
       "      <td>1.000000e+03</td>\n",
       "      <td>1000.000000</td>\n",
       "      <td>1000.00000</td>\n",
       "      <td>1000.000000</td>\n",
       "      <td>1.000000e+03</td>\n",
       "      <td>1.000000e+03</td>\n",
       "      <td>1.000000e+03</td>\n",
       "    </tr>\n",
       "    <tr>\n",
       "      <th>mean</th>\n",
       "      <td>5.496813e+08</td>\n",
       "      <td>5053.988000</td>\n",
       "      <td>262.10684</td>\n",
       "      <td>184.965110</td>\n",
       "      <td>1.327322e+06</td>\n",
       "      <td>9.361192e+05</td>\n",
       "      <td>3.912026e+05</td>\n",
       "    </tr>\n",
       "    <tr>\n",
       "      <th>std</th>\n",
       "      <td>2.571334e+08</td>\n",
       "      <td>2901.375317</td>\n",
       "      <td>216.02106</td>\n",
       "      <td>175.289311</td>\n",
       "      <td>1.486515e+06</td>\n",
       "      <td>1.162571e+06</td>\n",
       "      <td>3.836402e+05</td>\n",
       "    </tr>\n",
       "    <tr>\n",
       "      <th>min</th>\n",
       "      <td>1.029280e+08</td>\n",
       "      <td>13.000000</td>\n",
       "      <td>9.33000</td>\n",
       "      <td>6.920000</td>\n",
       "      <td>2.043250e+03</td>\n",
       "      <td>1.416750e+03</td>\n",
       "      <td>5.326100e+02</td>\n",
       "    </tr>\n",
       "    <tr>\n",
       "      <th>25%</th>\n",
       "      <td>3.280740e+08</td>\n",
       "      <td>2420.250000</td>\n",
       "      <td>81.73000</td>\n",
       "      <td>56.670000</td>\n",
       "      <td>2.811919e+05</td>\n",
       "      <td>1.649319e+05</td>\n",
       "      <td>9.837612e+04</td>\n",
       "    </tr>\n",
       "    <tr>\n",
       "      <th>50%</th>\n",
       "      <td>5.566097e+08</td>\n",
       "      <td>5184.000000</td>\n",
       "      <td>154.06000</td>\n",
       "      <td>97.440000</td>\n",
       "      <td>7.549392e+05</td>\n",
       "      <td>4.647261e+05</td>\n",
       "      <td>2.772260e+05</td>\n",
       "    </tr>\n",
       "    <tr>\n",
       "      <th>75%</th>\n",
       "      <td>7.696945e+08</td>\n",
       "      <td>7536.750000</td>\n",
       "      <td>421.89000</td>\n",
       "      <td>263.330000</td>\n",
       "      <td>1.733503e+06</td>\n",
       "      <td>1.141750e+06</td>\n",
       "      <td>5.484568e+05</td>\n",
       "    </tr>\n",
       "    <tr>\n",
       "      <th>max</th>\n",
       "      <td>9.955298e+08</td>\n",
       "      <td>9998.000000</td>\n",
       "      <td>668.27000</td>\n",
       "      <td>524.960000</td>\n",
       "      <td>6.617210e+06</td>\n",
       "      <td>5.204978e+06</td>\n",
       "      <td>1.726181e+06</td>\n",
       "    </tr>\n",
       "  </tbody>\n",
       "</table>\n",
       "</div>"
      ],
      "text/plain": [
       "           Order ID   Units Sold  Unit Price    Unit Cost  Total Revenue  \\\n",
       "count  1.000000e+03  1000.000000  1000.00000  1000.000000   1.000000e+03   \n",
       "mean   5.496813e+08  5053.988000   262.10684   184.965110   1.327322e+06   \n",
       "std    2.571334e+08  2901.375317   216.02106   175.289311   1.486515e+06   \n",
       "min    1.029280e+08    13.000000     9.33000     6.920000   2.043250e+03   \n",
       "25%    3.280740e+08  2420.250000    81.73000    56.670000   2.811919e+05   \n",
       "50%    5.566097e+08  5184.000000   154.06000    97.440000   7.549392e+05   \n",
       "75%    7.696945e+08  7536.750000   421.89000   263.330000   1.733503e+06   \n",
       "max    9.955298e+08  9998.000000   668.27000   524.960000   6.617210e+06   \n",
       "\n",
       "         Total Cost  Total Profit  \n",
       "count  1.000000e+03  1.000000e+03  \n",
       "mean   9.361192e+05  3.912026e+05  \n",
       "std    1.162571e+06  3.836402e+05  \n",
       "min    1.416750e+03  5.326100e+02  \n",
       "25%    1.649319e+05  9.837612e+04  \n",
       "50%    4.647261e+05  2.772260e+05  \n",
       "75%    1.141750e+06  5.484568e+05  \n",
       "max    5.204978e+06  1.726181e+06  "
      ]
     },
     "execution_count": 5,
     "metadata": {},
     "output_type": "execute_result"
    }
   ],
   "source": [
    "file.describe()"
   ]
  },
  {
   "cell_type": "markdown",
   "id": "9bb4d9ad",
   "metadata": {},
   "source": [
    "# PERFORMING BASIC STUFFS ON THE DATA"
   ]
  },
  {
   "cell_type": "code",
   "execution_count": 6,
   "id": "4165f9cb",
   "metadata": {},
   "outputs": [
    {
     "name": "stdout",
     "output_type": "stream",
     "text": [
      "['Middle East and North Africa' 'North America' 'Asia'\n",
      " 'Sub-Saharan Africa' 'Europe' 'Central America and the Caribbean'\n",
      " 'Australia and Oceania']\n",
      "['Libya' 'Canada' 'Japan' 'Chad' 'Armenia' 'Eritrea' 'Montenegro'\n",
      " 'Jamaica' 'Fiji' 'Togo' 'Greece' 'Sudan' 'Maldives' 'Estonia' 'Greenland'\n",
      " 'Cape Verde' 'Senegal' 'Federated States of Micronesia' 'Bulgaria'\n",
      " 'Algeria' 'Mongolia' 'Grenada' 'Mauritius ' 'Morocco' 'Honduras' 'Benin'\n",
      " 'Equatorial Guinea' 'Swaziland' 'Trinidad and Tobago' 'Sweden' 'Belarus'\n",
      " 'Guinea-Bissau' 'Turkey' 'Central African Republic' 'Laos' 'Israel'\n",
      " 'Bhutan' 'Vanuatu' 'Burundi' 'Ukraine' 'Croatia' 'Madagascar' 'Malaysia'\n",
      " 'Uzbekistan' 'Italy' 'Nepal' 'Portugal' 'Panama' 'Botswana' 'Tanzania'\n",
      " 'Romania' 'Mali' 'Niger' 'Austria' 'India' 'Luxembourg' 'Iceland' 'Qatar'\n",
      " 'South Sudan' 'United Kingdom' 'Tunisia ' 'United States of America'\n",
      " 'Liberia' 'South Korea' 'Kenya' 'Rwanda' 'Cuba' 'Czech Republic'\n",
      " 'Philippines' 'El Salvador' 'Tonga' 'Democratic Republic of the Congo'\n",
      " 'Afghanistan' 'Tuvalu' 'Gabon' 'East Timor' 'Jordan' 'Cyprus' 'Malawi'\n",
      " 'United Arab Emirates' 'China' 'Somalia' 'Bangladesh' 'Egypt' 'Vietnam'\n",
      " 'Marshall Islands' 'Taiwan' 'Ireland' 'South Africa' 'Albania' 'Ghana'\n",
      " 'Saint Lucia' 'Macedonia' 'Germany' 'Poland' 'Namibia' 'Zimbabwe'\n",
      " 'Norway' 'Oman' 'Serbia' 'Brunei' 'Nicaragua' 'Lithuania'\n",
      " 'Republic of the Congo' 'Cameroon' 'Moldova ' 'Bahrain' 'Hungary' 'Iraq'\n",
      " 'Lesotho' 'Lebanon' 'Georgia' 'Ethiopia' 'Mexico' 'Nigeria'\n",
      " 'Solomon Islands' 'Burkina Faso' 'Kiribati' 'Comoros' 'Iran' 'Belize'\n",
      " 'Andorra' 'Slovakia' 'Antigua and Barbuda ' 'Myanmar' 'Nauru' 'Finland'\n",
      " 'Papua New Guinea' 'Mozambique' 'Spain' 'Belgium' \"Cote d'Ivoire\"\n",
      " 'Switzerland' 'Palau' 'Slovenia' 'Guinea' 'Russia' 'Seychelles '\n",
      " 'Costa Rica' 'Liechtenstein' 'Uganda' 'Guatemala' 'Thailand' 'Denmark'\n",
      " 'Angola' 'North Korea' 'Yemen' 'Dominican Republic' 'Vatican City'\n",
      " 'Djibouti' 'Malta' 'The Bahamas' 'Tajikistan' 'Saudi Arabia' 'Mauritania'\n",
      " 'New Zealand' 'Samoa ' 'Singapore' 'Pakistan' 'Sao Tome and Principe'\n",
      " 'Turkmenistan' 'Monaco' 'Saint Kitts and Nevis ' 'Cambodia' 'Kyrgyzstan'\n",
      " 'Indonesia' 'Kazakhstan' 'Australia' 'Syria' 'Azerbaijan' 'Barbados'\n",
      " 'Kuwait' 'San Marino' 'Netherlands' 'Kosovo' 'Latvia'\n",
      " 'Bosnia and Herzegovina' 'Sri Lanka' 'Dominica' 'Haiti'\n",
      " 'Saint Vincent and the Grenadines' 'Sierra Leone' 'Zambia' 'France'\n",
      " 'The Gambia']\n",
      "['Cosmetics' 'Vegetables' 'Baby Food' 'Cereal' 'Fruits' 'Clothes' 'Snacks'\n",
      " 'Household' 'Office Supplies' 'Beverages' 'Personal Care' 'Meat']\n",
      "['M' 'C' 'H' 'L']\n"
     ]
    }
   ],
   "source": [
    "unique_region = file.Region.unique()\n",
    "unique_country = file.Country.unique()\n",
    "unique_Item_type= file['Item Type'].unique()\n",
    "unique_Priority_order = file['Order Priority'].unique()\n",
    "print(unique_region)\n",
    "print(unique_country)\n",
    "print(unique_Item_type)\n",
    "print(unique_Priority_order)"
   ]
  },
  {
   "cell_type": "code",
   "execution_count": 7,
   "id": "b0354726",
   "metadata": {},
   "outputs": [
    {
     "data": {
      "text/plain": [
       "array(['Nepal', 'Niger', 'Namibia', 'Norway', 'Nicaragua', 'Nigeria',\n",
       "       'Nauru', 'North Korea', 'New Zealand', 'Netherlands'], dtype=object)"
      ]
     },
     "execution_count": 7,
     "metadata": {},
     "output_type": "execute_result"
    }
   ],
   "source": [
    "file.Country[file.Country.str.startswith('N')].unique()"
   ]
  },
  {
   "cell_type": "code",
   "execution_count": 8,
   "id": "01140078",
   "metadata": {},
   "outputs": [
    {
     "data": {
      "text/plain": [
       "array(['Middle East and North Africa', 'North America', 'Asia',\n",
       "       'Sub-Saharan Africa', 'Europe',\n",
       "       'Central America and the Caribbean', 'Australia and Oceania'],\n",
       "      dtype=object)"
      ]
     },
     "execution_count": 8,
     "metadata": {},
     "output_type": "execute_result"
    }
   ],
   "source": [
    "file.Region.unique()"
   ]
  },
  {
   "cell_type": "markdown",
   "id": "2d891c7f",
   "metadata": {},
   "source": [
    "## ITEM TYPES SOLD IN THE SUB-SAHARAN AFRICA"
   ]
  },
  {
   "cell_type": "code",
   "execution_count": 9,
   "id": "3a17ca25",
   "metadata": {
    "scrolled": true
   },
   "outputs": [
    {
     "data": {
      "text/plain": [
       "4               Fruits\n",
       "6               Cereal\n",
       "10             Clothes\n",
       "13           Cosmetics\n",
       "18             Clothes\n",
       "            ...       \n",
       "978          Beverages\n",
       "984      Personal Care\n",
       "985    Office Supplies\n",
       "990          Beverages\n",
       "991             Cereal\n",
       "Name: Item Type, Length: 262, dtype: object"
      ]
     },
     "execution_count": 9,
     "metadata": {},
     "output_type": "execute_result"
    }
   ],
   "source": [
    "file[file.Region.isin(['Sub-Saharan Africa'])]['Item Type']"
   ]
  },
  {
   "cell_type": "code",
   "execution_count": 10,
   "id": "76b46128",
   "metadata": {
    "scrolled": true
   },
   "outputs": [
    {
     "data": {
      "text/plain": [
       "Country\n",
       "Cuba                        7351820.83\n",
       "Papua New Guinea            6085514.28\n",
       "Central African Republic    5338519.48\n",
       "Ghana                       4736567.14\n",
       "Malaysia                    4715338.84\n",
       "Name: Total Profit, dtype: float64"
      ]
     },
     "execution_count": 10,
     "metadata": {},
     "output_type": "execute_result"
    }
   ],
   "source": [
    "file.groupby('Country')['Total Profit'].sum().nlargest()"
   ]
  },
  {
   "cell_type": "markdown",
   "id": "a2a163b9",
   "metadata": {},
   "source": [
    "##  MOST BOUGHT ITEMs IN SUB-SAHARAN AFRICA"
   ]
  },
  {
   "cell_type": "code",
   "execution_count": 11,
   "id": "55134c47",
   "metadata": {
    "scrolled": true
   },
   "outputs": [
    {
     "data": {
      "text/plain": [
       "Fruits             29\n",
       "Meat               26\n",
       "Cereal             25\n",
       "Beverages          24\n",
       "Baby Food          24\n",
       "Household          24\n",
       "Office Supplies    24\n",
       "Vegetables         22\n",
       "Personal Care      19\n",
       "Clothes            16\n",
       "Snacks             16\n",
       "Cosmetics          13\n",
       "Name: Item Type, dtype: int64"
      ]
     },
     "execution_count": 11,
     "metadata": {},
     "output_type": "execute_result"
    }
   ],
   "source": [
    "list = []\n",
    "sub_saharan_africa  = file[file['Region']=='Sub-Saharan Africa']\n",
    "items = sub_saharan_africa['Item Type'].unique()\n",
    "items_count = sub_saharan_africa['Item Type'].value_counts()\n",
    "items_count"
   ]
  },
  {
   "cell_type": "markdown",
   "id": "eca841b5",
   "metadata": {},
   "source": [
    "## MAXIMUM UNITS SOLD IN A CONTINENT"
   ]
  },
  {
   "cell_type": "code",
   "execution_count": 20,
   "id": "01e50cf6",
   "metadata": {},
   "outputs": [
    {
     "name": "stdout",
     "output_type": "stream",
     "text": [
      "CONTINENT : Asia \n",
      "MAXIMUM UNITS SOLD : 48811\n",
      "CONTINENT : Australia and Oceania \n",
      "MAXIMUM UNITS SOLD : 54080\n",
      "CONTINENT : Central America and the Caribbean \n",
      "MAXIMUM UNITS SOLD : 73479\n",
      "CONTINENT : Europe \n",
      "MAXIMUM UNITS SOLD : 48397\n",
      "CONTINENT : Middle East and North Africa \n",
      "MAXIMUM UNITS SOLD : 56469\n",
      "CONTINENT : North America \n",
      "MAXIMUM UNITS SOLD : 39977\n",
      "CONTINENT : Sub-Saharan Africa \n",
      "MAXIMUM UNITS SOLD : 52525\n"
     ]
    }
   ],
   "source": [
    "Region_list = file.groupby('Region')['Country'].unique()\n",
    "continents = file.groupby(['Region','Country'])['Units Sold'].sum()\n",
    "max_per_continent = continents.groupby('Region').max()\n",
    "max_per_continent\n",
    "Region_list.index\n",
    "for index , continent in zip(Region_list.index,max_per_continent):\n",
    "    print(f\"CONTINENT : {index} \\nMAXIMUM UNITS SOLD : {continent}\")"
   ]
  },
  {
   "cell_type": "markdown",
   "id": "6b404b05",
   "metadata": {},
   "source": [
    "## TOTAL UNITS SOLD IN EACH COUNTRY FOR EACH CONTINENT"
   ]
  },
  {
   "cell_type": "code",
   "execution_count": 16,
   "id": "47e11c7a",
   "metadata": {},
   "outputs": [
    {
     "name": "stdout",
     "output_type": "stream",
     "text": [
      "{'Asia': [{'Japan': 43772}, {'Maldives': 42271}, {'Mongolia': 48811}, {'Laos': 21478}, {'Bhutan': 42443}, {'Malaysia': 42656}, {'Uzbekistan': 33960}, {'Nepal': 17944}, {'India': 39711}, {'South Korea': 12610}, {'Philippines': 18282}, {'China': 30281}, {'Bangladesh': 27027}, {'Vietnam': 34084}, {'Taiwan': 20388}, {'Brunei': 14710}, {'Myanmar': 15364}, {'Thailand': 18970}, {'North Korea': 22582}, {'Tajikistan': 27832}, {'Singapore': 17403}, {'Turkmenistan': 8326}, {'Cambodia': 14604}, {'Kyrgyzstan': 15744}, {'Indonesia': 18752}, {'Kazakhstan': 8172}, {'Sri Lanka': 19347}]}\n",
      "{'Australia and Oceania': [{'Fiji': 32085}, {'Federated States of Micronesia': 5412}, {'Vanuatu': 54080}, {'Tonga': 38258}, {'Tuvalu': 21325}, {'East Timor': 37686}, {'Marshall Islands': 32715}, {'Solomon Islands': 43680}, {'Kiribati': 21539}, {'Nauru': 15409}, {'Papua New Guinea': 36286}, {'Palau': 17661}, {'New Zealand': 31349}, {'Samoa ': 13265}, {'Australia': 16548}]}\n",
      "{'Central America and the Caribbean': [{'Jamaica': 16849}, {'Grenada': 19940}, {'Honduras': 18805}, {'Trinidad and Tobago': 29927}, {'Panama': 38168}, {'Cuba': 73479}, {'El Salvador': 18350}, {'Saint Lucia': 19729}, {'Nicaragua': 14593}, {'Belize': 25366}, {'Antigua and Barbuda ': 16357}, {'Costa Rica': 37897}, {'Guatemala': 34274}, {'Dominican Republic': 29910}, {'The Bahamas': 35025}, {'Saint Kitts and Nevis ': 16885}, {'Barbados': 12369}, {'Dominica': 5742}, {'Haiti': 23480}, {'Saint Vincent and the Grenadines': 16217}]}\n",
      "{'Europe': [{'Armenia': 35263}, {'Montenegro': 32024}, {'Greece': 28171}, {'Estonia': 30487}, {'Bulgaria': 37236}, {'Sweden': 43014}, {'Belarus': 45126}, {'Ukraine': 23776}, {'Croatia': 7403}, {'Italy': 40599}, {'Portugal': 32337}, {'Romania': 47896}, {'Austria': 27996}, {'Luxembourg': 33926}, {'Iceland': 13128}, {'United Kingdom': 27763}, {'Czech Republic': 48397}, {'Cyprus': 20782}, {'Ireland': 34856}, {'Albania': 45431}, {'Macedonia': 24570}, {'Germany': 40661}, {'Poland': 44062}, {'Norway': 23188}, {'Serbia': 26371}, {'Lithuania': 34176}, {'Moldova ': 41439}, {'Hungary': 24034}, {'Georgia': 23498}, {'Andorra': 32148}, {'Slovakia': 25647}, {'Finland': 26610}, {'Spain': 22596}, {'Belgium': 37766}, {'Switzerland': 29902}, {'Slovenia': 23456}, {'Russia': 21375}, {'Liechtenstein': 20427}, {'Denmark': 5497}, {'Vatican City': 16419}, {'Malta': 8534}, {'Monaco': 21350}, {'San Marino': 3447}, {'Netherlands': 22678}, {'Kosovo': 3747}, {'Latvia': 9422}, {'Bosnia and Herzegovina': 10681}, {'France': 6496}]}\n",
      "{'Middle East and North Africa': [{'Libya': 21894}, {'Algeria': 34779}, {'Morocco': 29125}, {'Turkey': 36681}, {'Israel': 17403}, {'Qatar': 44998}, {'Tunisia ': 40142}, {'Afghanistan': 22651}, {'Jordan': 46537}, {'United Arab Emirates': 20550}, {'Somalia': 29287}, {'Egypt': 31231}, {'Oman': 22315}, {'Bahrain': 56469}, {'Iraq': 13189}, {'Lebanon': 32751}, {'Iran': 42527}, {'Yemen': 31899}, {'Saudi Arabia': 20965}, {'Pakistan': 35454}, {'Syria': 10341}, {'Azerbaijan': 14383}, {'Kuwait': 26792}]}\n",
      "{'North America': [{'Canada': 9517}, {'Greenland': 39977}, {'United States of America': 39840}, {'Mexico': 11405}]}\n",
      "{'Sub-Saharan Africa': [{'Chad': 51939}, {'Eritrea': 8273}, {'Togo': 12133}, {'Sudan': 39747}, {'Cape Verde': 31812}, {'Senegal': 24660}, {'Mauritius ': 31394}, {'Benin': 25607}, {'Equatorial Guinea': 21932}, {'Swaziland': 39065}, {'Guinea-Bissau': 35309}, {'Central African Republic': 49229}, {'Burundi': 29478}, {'Madagascar': 33923}, {'Botswana': 13382}, {'Tanzania': 18399}, {'Mali': 52525}, {'Niger': 49638}, {'South Sudan': 38714}, {'Liberia': 35337}, {'Kenya': 26247}, {'Rwanda': 21580}, {'Democratic Republic of the Congo': 36679}, {'Gabon': 26028}, {'Malawi': 43147}, {'South Africa': 30023}, {'Ghana': 37488}, {'Namibia': 26013}, {'Zimbabwe': 50789}, {'Republic of the Congo': 25188}, {'Cameroon': 624}, {'Lesotho': 50803}, {'Ethiopia': 14697}, {'Nigeria': 19965}, {'Burkina Faso': 10427}, {'Comoros': 30176}, {'Mozambique': 30306}, {\"Cote d'Ivoire\": 36964}, {'Guinea': 26817}, {'Seychelles ': 16292}, {'Uganda': 24875}, {'Angola': 40945}, {'Djibouti': 26274}, {'Mauritania': 23794}, {'Sao Tome and Principe': 24945}, {'Sierra Leone': 19940}, {'Zambia': 11050}, {'The Gambia': 12322}]}\n"
     ]
    }
   ],
   "source": [
    "Region_list = file.groupby('Region')['Country'].unique()\n",
    "Region_list\n",
    "for index,country in enumerate(Region_list):\n",
    "    continent = Region_list.index[index]\n",
    "    print({continent:[{country : file.loc[file['Country']== country ,'Units Sold'].sum()} for country in Region_list[index]]})"
   ]
  },
  {
   "cell_type": "code",
   "execution_count": null,
   "id": "19f72fc9",
   "metadata": {},
   "outputs": [],
   "source": []
  },
  {
   "cell_type": "markdown",
   "id": "08670b00",
   "metadata": {},
   "source": [
    "## MAXIMUM PROFIT FOR THE TOP FIVE COUNTRIES"
   ]
  },
  {
   "cell_type": "code",
   "execution_count": 14,
   "id": "cc41540b",
   "metadata": {},
   "outputs": [
    {
     "data": {
      "image/png": "[encoded data removed]",
      "text/plain": [
       "<Figure size 432x288 with 1 Axes>"
      ]
     },
     "metadata": {
      "needs_background": "light"
     },
     "output_type": "display_data"
    }
   ],
   "source": [
    "file.groupby('Country')['Total Profit'].sum().nlargest().plot(color='black',marker='*',linewidth='1')\n",
    "plt.text(0,7351820.83, r'maximum $\\alpha$')\n",
    "plt.ylabel('Total_profit')\n",
    "plt.xticks(np.arange(5),('Cuba','Papua New Guinea','Central African Replublic','Ghana','Malaysia'),rotation=90)\n",
    "plt.show()"
   ]
  },
  {
   "cell_type": "code",
   "execution_count": null,
   "id": "f9ef5f6c",
   "metadata": {},
   "outputs": [],
   "source": []
  }
 ],
 "metadata": {
  "kernelspec": {
   "display_name": "Python 3",
   "language": "python",
   "name": "python3"
  },
  "language_info": {
   "codemirror_mode": {
    "name": "ipython",
    "version": 3
   },
   "file_extension": ".py",
   "mimetype": "text/x-python",
   "name": "python",
   "nbconvert_exporter": "python",
   "pygments_lexer": "ipython3",
   "version": "3.8.5"
  }
 },
 "nbformat": 4,
 "nbformat_minor": 5
}
